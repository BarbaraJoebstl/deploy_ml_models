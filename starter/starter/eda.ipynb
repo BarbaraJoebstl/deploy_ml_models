{
 "cells": [
  {
   "cell_type": "code",
   "execution_count": 2,
   "id": "1a1b163d",
   "metadata": {},
   "outputs": [
    {
     "name": "stdout",
     "output_type": "stream",
     "text": [
      "First 5 rows of the dataset:\n",
      "   age          workclass   fnlgt   education   education-num  \\\n",
      "0   39          State-gov   77516   Bachelors              13   \n",
      "1   50   Self-emp-not-inc   83311   Bachelors              13   \n",
      "2   38            Private  215646     HS-grad               9   \n",
      "3   53            Private  234721        11th               7   \n",
      "4   28            Private  338409   Bachelors              13   \n",
      "\n",
      "        marital-status          occupation    relationship    race      sex  \\\n",
      "0        Never-married        Adm-clerical   Not-in-family   White     Male   \n",
      "1   Married-civ-spouse     Exec-managerial         Husband   White     Male   \n",
      "2             Divorced   Handlers-cleaners   Not-in-family   White     Male   \n",
      "3   Married-civ-spouse   Handlers-cleaners         Husband   Black     Male   \n",
      "4   Married-civ-spouse      Prof-specialty            Wife   Black   Female   \n",
      "\n",
      "    capital-gain   capital-loss   hours-per-week  native-country  salary  \n",
      "0           2174              0               40   United-States   <=50K  \n",
      "1              0              0               13   United-States   <=50K  \n",
      "2              0              0               40   United-States   <=50K  \n",
      "3              0              0               40   United-States   <=50K  \n",
      "4              0              0               40            Cuba   <=50K  \n",
      "\n",
      "Summary statistics:\n",
      "                age         fnlgt   education-num   capital-gain  \\\n",
      "count  32561.000000  3.256100e+04    32561.000000   32561.000000   \n",
      "mean      38.581647  1.897784e+05       10.080679    1077.648844   \n",
      "std       13.640433  1.055500e+05        2.572720    7385.292085   \n",
      "min       17.000000  1.228500e+04        1.000000       0.000000   \n",
      "25%       28.000000  1.178270e+05        9.000000       0.000000   \n",
      "50%       37.000000  1.783560e+05       10.000000       0.000000   \n",
      "75%       48.000000  2.370510e+05       12.000000       0.000000   \n",
      "max       90.000000  1.484705e+06       16.000000   99999.000000   \n",
      "\n",
      "        capital-loss   hours-per-week  \n",
      "count   32561.000000     32561.000000  \n",
      "mean       87.303830        40.437456  \n",
      "std       402.960219        12.347429  \n",
      "min         0.000000         1.000000  \n",
      "25%         0.000000        40.000000  \n",
      "50%         0.000000        40.000000  \n",
      "75%         0.000000        45.000000  \n",
      "max      4356.000000        99.000000  \n",
      "\n",
      "Column information:\n",
      "<class 'pandas.core.frame.DataFrame'>\n",
      "RangeIndex: 32561 entries, 0 to 32560\n",
      "Data columns (total 15 columns):\n",
      " #   Column           Non-Null Count  Dtype \n",
      "---  ------           --------------  ----- \n",
      " 0   age              32561 non-null  int64 \n",
      " 1    workclass       32561 non-null  object\n",
      " 2    fnlgt           32561 non-null  int64 \n",
      " 3    education       32561 non-null  object\n",
      " 4    education-num   32561 non-null  int64 \n",
      " 5    marital-status  32561 non-null  object\n",
      " 6    occupation      32561 non-null  object\n",
      " 7    relationship    32561 non-null  object\n",
      " 8    race            32561 non-null  object\n",
      " 9    sex             32561 non-null  object\n",
      " 10   capital-gain    32561 non-null  int64 \n",
      " 11   capital-loss    32561 non-null  int64 \n",
      " 12   hours-per-week  32561 non-null  int64 \n",
      " 13   native-country  32561 non-null  object\n",
      " 14   salary          32561 non-null  object\n",
      "dtypes: int64(6), object(9)\n",
      "memory usage: 3.7+ MB\n",
      "None\n",
      "\n",
      "Missing values per column:\n",
      "age                0\n",
      " workclass         0\n",
      " fnlgt             0\n",
      " education         0\n",
      " education-num     0\n",
      " marital-status    0\n",
      " occupation        0\n",
      " relationship      0\n",
      " race              0\n",
      " sex               0\n",
      " capital-gain      0\n",
      " capital-loss      0\n",
      " hours-per-week    0\n",
      " native-country    0\n",
      " salary            0\n",
      "dtype: int64\n"
     ]
    }
   ],
   "source": [
    "import pandas as pd\n",
    "\n",
    "file_path = '../data/census.csv' \n",
    "df = pd.read_csv(file_path)\n",
    "\n",
    "# Inspect the data\n",
    "print(\"First 5 rows of the dataset:\")\n",
    "print(df.head())\n",
    "\n",
    "print(\"\\nSummary statistics:\")\n",
    "print(df.describe())\n",
    "\n",
    "print(\"\\nColumn information:\")\n",
    "print(df.info())\n",
    "\n",
    "print(\"\\nMissing values per column:\")\n",
    "print(df.isnull().sum())\n"
   ]
  },
  {
   "cell_type": "code",
   "execution_count": 3,
   "id": "77945bb1",
   "metadata": {},
   "outputs": [
    {
     "name": "stdout",
     "output_type": "stream",
     "text": [
      "Columns in the DataFrame:\n",
      "['age', ' workclass', ' fnlgt', ' education', ' education-num', ' marital-status', ' occupation', ' relationship', ' race', ' sex', ' capital-gain', ' capital-loss', ' hours-per-week', ' native-country', ' salary']\n"
     ]
    }
   ],
   "source": [
    "print(\"Columns in the DataFrame:\")\n",
    "print(df.columns.tolist())"
   ]
  },
  {
   "cell_type": "code",
   "execution_count": null,
   "id": "efa64d6e",
   "metadata": {},
   "outputs": [],
   "source": [
    "# remove blank spaces at the beginning of the columnames"
   ]
  },
  {
   "cell_type": "code",
   "execution_count": 4,
   "id": "31553fa8",
   "metadata": {},
   "outputs": [],
   "source": [
    "df.columns = df.columns.str.strip()"
   ]
  },
  {
   "cell_type": "code",
   "execution_count": 6,
   "id": "dec08744",
   "metadata": {},
   "outputs": [],
   "source": [
    "df.to_csv(\"../data/census_cleaned.csv\", index=False)\n"
   ]
  },
  {
   "cell_type": "code",
   "execution_count": null,
   "id": "9ebccb2a",
   "metadata": {},
   "outputs": [],
   "source": []
  }
 ],
 "metadata": {
  "kernelspec": {
   "display_name": "ml_devops",
   "language": "python",
   "name": "python3"
  },
  "language_info": {
   "codemirror_mode": {
    "name": "ipython",
    "version": 3
   },
   "file_extension": ".py",
   "mimetype": "text/x-python",
   "name": "python",
   "nbconvert_exporter": "python",
   "pygments_lexer": "ipython3",
   "version": "3.8.18"
  }
 },
 "nbformat": 4,
 "nbformat_minor": 5
}
